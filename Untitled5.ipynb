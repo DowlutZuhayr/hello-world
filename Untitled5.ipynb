{
 "cells": [
  {
   "cell_type": "code",
   "execution_count": 1,
   "metadata": {},
   "outputs": [
    {
     "data": {
      "text/plain": [
       "18"
      ]
     },
     "execution_count": 1,
     "metadata": {},
     "output_type": "execute_result"
    }
   ],
   "source": [
    "sum1 = \"this is a sentence\"\n",
    "len(sum1)"
   ]
  },
  {
   "cell_type": "code",
   "execution_count": 3,
   "metadata": {},
   "outputs": [
    {
     "name": "stdout",
     "output_type": "stream",
     "text": [
      "{'g': 2, 'o': 3, 'l': 1, 'e': 1, '.': 1, 'c': 1, 'm': 1}\n"
     ]
    }
   ],
   "source": [
    "word = \"google.com\"\n",
    "dict = {}\n",
    "for n in word:\n",
    "    dict[n] = word.count(n)\n",
    "    \n",
    "print(dict)"
   ]
  },
  {
   "cell_type": "code",
   "execution_count": 12,
   "metadata": {},
   "outputs": [
    {
     "name": "stdout",
     "output_type": "stream",
     "text": [
      "w3ce\n"
     ]
    }
   ],
   "source": [
    "sample = \"w3resource\"\n",
    "n = sample[:2]\n",
    "m = sample[-2] + sample[-1]\n",
    "print(n + m)"
   ]
  },
  {
   "cell_type": "code",
   "execution_count": 29,
   "metadata": {},
   "outputs": [
    {
     "name": "stdout",
     "output_type": "stream",
     "text": [
      "resta$t\n"
     ]
    }
   ],
   "source": [
    "sen = \"restart\"\n",
    "n = sen[0]\n",
    "new_sen = sen.replace(n, \"$\")\n",
    "new_sen1 = n + new_sen[1:]\n",
    "print(new_sen1)\n",
    "\n",
    "        "
   ]
  },
  {
   "cell_type": "code",
   "execution_count": 31,
   "metadata": {},
   "outputs": [
    {
     "name": "stdout",
     "output_type": "stream",
     "text": [
      "xyc abz\n"
     ]
    }
   ],
   "source": [
    "st = \"abc\"\n",
    "sy = \"xyz\"\n",
    "\n",
    "new_s = st[:2]\n",
    "new_s1 = sy[:2]\n",
    "\n",
    "result = (new_s1 + st[2]) + \" \" + (new_s + sy[2])\n",
    "print(result)"
   ]
  },
  {
   "cell_type": "code",
   "execution_count": 33,
   "metadata": {},
   "outputs": [
    {
     "name": "stdout",
     "output_type": "stream",
     "text": [
      "enter a word: spring\n",
      "springly\n"
     ]
    }
   ],
   "source": [
    "wo = input(\"enter a word: \")\n",
    "a = \"ing\"\n",
    "b = \"ly\"\n",
    "\n",
    "if wo.endswith(\"ing\"):  #endswith is a function \n",
    "    print(wo + b)\n",
    "    \n",
    "else:\n",
    "    print(wo + a)"
   ]
  },
  {
   "cell_type": "code",
   "execution_count": 43,
   "metadata": {},
   "outputs": [
    {
     "name": "stdout",
     "output_type": "stream",
     "text": [
      "8\n",
      "4\n",
      "6\n",
      "5\n",
      "sentence\n"
     ]
    }
   ],
   "source": [
    "words = [\"sentence\", \"word\", \"phrase\", \"write\"]\n",
    "len(words)\n",
    "for i in words:\n",
    "    print(len(i))\n",
    "    \n",
    "n = max(words, key=len)\n",
    "print(n)\n",
    "    \n",
    "    "
   ]
  },
  {
   "cell_type": "code",
   "execution_count": null,
   "metadata": {},
   "outputs": [],
   "source": []
  },
  {
   "cell_type": "code",
   "execution_count": null,
   "metadata": {},
   "outputs": [],
   "source": []
  }
 ],
 "metadata": {
  "kernelspec": {
   "display_name": "Python 3",
   "language": "python",
   "name": "python3"
  },
  "language_info": {
   "codemirror_mode": {
    "name": "ipython",
    "version": 3
   },
   "file_extension": ".py",
   "mimetype": "text/x-python",
   "name": "python",
   "nbconvert_exporter": "python",
   "pygments_lexer": "ipython3",
   "version": "3.8.3"
  }
 },
 "nbformat": 4,
 "nbformat_minor": 4
}
