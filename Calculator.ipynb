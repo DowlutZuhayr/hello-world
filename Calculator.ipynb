{
 "cells": [
  {
   "cell_type": "code",
   "execution_count": 1,
   "metadata": {},
   "outputs": [
    {
     "name": "stdout",
     "output_type": "stream",
     "text": [
      "Input: 10\n",
      "Input: 20\n",
      "which operation do you want to perform? Enter +, *, /, -: *\n",
      "200\n",
      "Try again? \n",
      "Press 1 to try again : \n",
      "Press 2 to exit : \n",
      "1\n",
      "Input: 50\n",
      "Input: 26\n",
      "which operation do you want to perform? Enter +, *, /, -: -\n",
      "24\n",
      "Try again? \n",
      "Press 1 to try again : \n",
      "Press 2 to exit : \n",
      "2\n"
     ]
    }
   ],
   "source": [
    "def main(): \n",
    "    \n",
    "    x = int(input(\"Input: \"))\n",
    "    y = int(input(\"Input: \"))\n",
    "    def add(x,y):\n",
    "        result = x + y\n",
    "        return result\n",
    "\n",
    "    answer1 = add(x,y)\n",
    "\n",
    "    def sub(x,y):\n",
    "        result1 = x - y\n",
    "        return result1\n",
    "\n",
    "    answer2 = sub(x,y)\n",
    "\n",
    "    def mul(x,y):\n",
    "        result2 = x * y\n",
    "        return result2\n",
    "\n",
    "    answer3 = mul(x,y)\n",
    "\n",
    "    def div(x,y):\n",
    "        result3 = x / y\n",
    "        return result3\n",
    "\n",
    "    answer4 = div(x,y)\n",
    "\n",
    "    \n",
    "    choice = input(\"which operation do you want to perform? Enter +, *, /, -: \")\n",
    "    if choice == '+':\n",
    "        print(answer1)\n",
    "    elif choice == '-':\n",
    "        print(answer2)\n",
    "    elif choice == '/':\n",
    "        print(answer4)\n",
    "    elif choice == '*':\n",
    "        print(answer3)\n",
    "    else:\n",
    "        print(\"Enter a valid operator\")\n",
    "        \n",
    "    restart = input(\"Try again? \\nPress 1 to try again : \\nPress 2 to exit : \\n\")\n",
    "    if restart == '1':\n",
    "        main()\n",
    "        \n",
    "    else:\n",
    "        exit()\n",
    "        \n",
    "main()"
   ]
  },
  {
   "cell_type": "code",
   "execution_count": null,
   "metadata": {},
   "outputs": [],
   "source": []
  },
  {
   "cell_type": "code",
   "execution_count": null,
   "metadata": {},
   "outputs": [],
   "source": []
  }
 ],
 "metadata": {
  "kernelspec": {
   "display_name": "Python 3",
   "language": "python",
   "name": "python3"
  },
  "language_info": {
   "codemirror_mode": {
    "name": "ipython",
    "version": 3
   },
   "file_extension": ".py",
   "mimetype": "text/x-python",
   "name": "python",
   "nbconvert_exporter": "python",
   "pygments_lexer": "ipython3",
   "version": "3.8.3"
  }
 },
 "nbformat": 4,
 "nbformat_minor": 4
}
